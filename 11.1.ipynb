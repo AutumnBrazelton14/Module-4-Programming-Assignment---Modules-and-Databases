{
 "cells": [
  {
   "cell_type": "code",
   "execution_count": 4,
   "id": "8752ba8e-a83e-42e2-ae2d-061c440fcfc7",
   "metadata": {},
   "outputs": [
    {
     "data": {
      "text/plain": [
       "<module 'zoo' from 'C:\\\\Users\\\\autum\\\\zoo.py'>"
      ]
     },
     "execution_count": 4,
     "metadata": {},
     "output_type": "execute_result"
    }
   ],
   "source": [
    "import importlib\n",
    "import zoo\n",
    "importlib.reload(zoo)\n"
   ]
  },
  {
   "cell_type": "code",
   "execution_count": 5,
   "id": "6c38749e-6edd-4043-a25f-6499a32502f2",
   "metadata": {},
   "outputs": [
    {
     "name": "stdout",
     "output_type": "stream",
     "text": [
      "Open 9-5 daily\n"
     ]
    }
   ],
   "source": [
    "import zoo\n",
    "zoo.hours()\n"
   ]
  },
  {
   "cell_type": "code",
   "execution_count": null,
   "id": "4c725082-2d8a-4e3f-bd70-6c00732422c3",
   "metadata": {},
   "outputs": [],
   "source": []
  }
 ],
 "metadata": {
  "kernelspec": {
   "display_name": "Python 3 (ipykernel)",
   "language": "python",
   "name": "python3"
  },
  "language_info": {
   "codemirror_mode": {
    "name": "ipython",
    "version": 3
   },
   "file_extension": ".py",
   "mimetype": "text/x-python",
   "name": "python",
   "nbconvert_exporter": "python",
   "pygments_lexer": "ipython3",
   "version": "3.12.4"
  }
 },
 "nbformat": 4,
 "nbformat_minor": 5
}
