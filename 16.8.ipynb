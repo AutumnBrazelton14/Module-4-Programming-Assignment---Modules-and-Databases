{
 "cells": [
  {
   "cell_type": "code",
   "execution_count": 15,
   "id": "a43bf150-8c81-4f7c-af4a-a6a8026cad52",
   "metadata": {},
   "outputs": [],
   "source": [
    "import csv\n"
   ]
  },
  {
   "cell_type": "code",
   "execution_count": 16,
   "id": "1d0edd6c-d587-4899-b316-5b6f31683ed7",
   "metadata": {},
   "outputs": [],
   "source": [
    "import csv\n",
    "\n",
    "# Open the CSV file\n",
    "with open('books.csv', mode='r') as file:\n",
    "    # Create a DictReader object\n",
    "    reader = csv.DictReader(file)\n",
    "    \n",
    "    # Read the rows into a list of dictionaries\n",
    "    books = [row for row in reader]\n"
   ]
  },
  {
   "cell_type": "code",
   "execution_count": 17,
   "id": "63d50ef2-eade-4da8-b84b-1e79db7b3b19",
   "metadata": {},
   "outputs": [
    {
     "name": "stdout",
     "output_type": "stream",
     "text": [
      "{'author': 'J R R Tolkien', 'book': 'The Hobbit'}\n",
      "{'author': 'Lynne Truss', 'book': 'Eats, Shoots & Leaves'}\n"
     ]
    }
   ],
   "source": [
    "# Print the values in books\n",
    "for book in books:\n",
    "    print(book)\n"
   ]
  },
  {
   "cell_type": "code",
   "execution_count": 18,
   "id": "7dd52757-ffae-4043-95ec-37624e06a7ff",
   "metadata": {},
   "outputs": [],
   "source": [
    "import sqlite3\n",
    "\n",
    "# Connect to SQLite database (creates books.db if it doesn't exist)\n",
    "conn = sqlite3.connect('books.db')\n",
    "\n",
    "# Create a cursor object\n",
    "cursor = conn.cursor()\n",
    "\n",
    "# Create the books table\n",
    "cursor.execute('''\n",
    "CREATE TABLE IF NOT EXISTS books (\n",
    "    title TEXT,\n",
    "    author TEXT,\n",
    "    year INTEGER\n",
    ")\n",
    "''')\n",
    "\n",
    "# Commit the changes\n",
    "conn.commit()\n",
    "\n",
    "# Close the connection\n",
    "conn.close()\n"
   ]
  },
  {
   "cell_type": "code",
   "execution_count": 19,
   "id": "ad3761f2-175b-46bc-870d-20c5a74a5e25",
   "metadata": {},
   "outputs": [],
   "source": [
    "import csv\n",
    "import sqlite3\n",
    "\n",
    "# Connect to SQLite database\n",
    "conn = sqlite3.connect('books.db')\n",
    "\n",
    "# Create a cursor object\n",
    "cursor = conn.cursor()\n",
    "\n",
    "# Open the CSV file\n",
    "with open('books2.csv', mode='r') as file:\n",
    "    # Create a DictReader object\n",
    "    reader = csv.DictReader(file)\n",
    "    \n",
    "    # Iterate over the rows in the CSV\n",
    "    for row in reader:\n",
    "        # Insert each row into the books table\n",
    "        cursor.execute('''\n",
    "        INSERT INTO books (title, author, year) VALUES (?, ?, ?)\n",
    "        ''', (row['title'], row['author'], row['year']))\n",
    "\n",
    "# Commit the changes\n",
    "conn.commit()\n",
    "\n",
    "# Close the connection\n",
    "conn.close()\n"
   ]
  },
  {
   "cell_type": "code",
   "execution_count": 20,
   "id": "63639f6c-2294-4497-88e7-96be55ece3a5",
   "metadata": {},
   "outputs": [
    {
     "name": "stdout",
     "output_type": "stream",
     "text": [
      "Perdido Street Station\n",
      "Small Gods\n",
      "The Spellman Files\n",
      "The Weirdstone of Brisingamen\n",
      "Thud!\n"
     ]
    }
   ],
   "source": [
    "import sqlite3\n",
    "\n",
    "# Connect to SQLite database\n",
    "conn = sqlite3.connect('books.db')\n",
    "\n",
    "# Create a cursor object\n",
    "cursor = conn.cursor()\n",
    "\n",
    "# Execute a query to select the title column in alphabetical order\n",
    "cursor.execute('SELECT title FROM books ORDER BY title')\n",
    "\n",
    "# Fetch all rows\n",
    "titles = cursor.fetchall()\n",
    "\n",
    "# Print each title\n",
    "for title in titles:\n",
    "    print(title[0])  # title[0] to access the first element in the tuple\n",
    "\n",
    "# Close the connection\n",
    "conn.close()\n"
   ]
  },
  {
   "cell_type": "code",
   "execution_count": 21,
   "id": "18cc1116-5157-4e78-aec6-0392cfd0ac09",
   "metadata": {},
   "outputs": [
    {
     "name": "stdout",
     "output_type": "stream",
     "text": [
      "('The Weirdstone of Brisingamen', 'Alan Garner', 1960)\n",
      "('Small Gods', 'Terry Pratchett', 1992)\n",
      "('Perdido Street Station', 'China Miéville', 2000)\n",
      "('Thud!', 'Terry Pratchett', 2005)\n",
      "('The Spellman Files', 'Lisa Lutz', 2007)\n"
     ]
    }
   ],
   "source": [
    "import sqlite3\n",
    "\n",
    "# Connect to SQLite database\n",
    "conn = sqlite3.connect('books.db')\n",
    "\n",
    "# Create a cursor object\n",
    "cursor = conn.cursor()\n",
    "\n",
    "# Execute a query to select all columns ordered by year\n",
    "cursor.execute('SELECT * FROM books ORDER BY year')\n",
    "\n",
    "# Fetch all rows\n",
    "rows = cursor.fetchall()\n",
    "\n",
    "# Print each row\n",
    "for row in rows:\n",
    "    print(row)\n",
    "\n",
    "# Close the connection\n",
    "conn.close()\n"
   ]
  },
  {
   "cell_type": "code",
   "execution_count": 23,
   "id": "0bd0a472-06be-4db9-a5b4-a482a17ec9b5",
   "metadata": {},
   "outputs": [
    {
     "name": "stdout",
     "output_type": "stream",
     "text": [
      "Perdido Street Station\n",
      "Small Gods\n",
      "The Spellman Files\n",
      "The Weirdstone of Brisingamen\n",
      "Thud!\n"
     ]
    }
   ],
   "source": [
    "from sqlalchemy import create_engine, Table, MetaData, select\n",
    "\n",
    "# Create a database engine\n",
    "engine = create_engine('sqlite:///books.db')\n",
    "\n",
    "# Create a MetaData instance\n",
    "metadata = MetaData()\n",
    "\n",
    "# Reflect the existing table\n",
    "books = Table('books', metadata, autoload_with=engine)\n",
    "\n",
    "# Create a select statement to get the title column in alphabetical order\n",
    "stmt = select(books.c.title).order_by(books.c.title)\n",
    "\n",
    "# Execute the statement and fetch all results\n",
    "with engine.connect() as conn:\n",
    "    result = conn.execute(stmt)\n",
    "    titles = result.fetchall()\n",
    "\n",
    "# Print each title\n",
    "for title in titles:\n",
    "    print(title[0])  # title[0] to access the first element in the tuple\n"
   ]
  },
  {
   "cell_type": "code",
   "execution_count": null,
   "id": "9465e87e-5d66-4f2e-b5e4-88cf52809c02",
   "metadata": {},
   "outputs": [],
   "source": []
  }
 ],
 "metadata": {
  "kernelspec": {
   "display_name": "Python 3 (ipykernel)",
   "language": "python",
   "name": "python3"
  },
  "language_info": {
   "codemirror_mode": {
    "name": "ipython",
    "version": 3
   },
   "file_extension": ".py",
   "mimetype": "text/x-python",
   "name": "python",
   "nbconvert_exporter": "python",
   "pygments_lexer": "ipython3",
   "version": "3.12.4"
  }
 },
 "nbformat": 4,
 "nbformat_minor": 5
}
